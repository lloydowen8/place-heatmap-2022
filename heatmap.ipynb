{
 "cells": [
  {
   "cell_type": "code",
   "execution_count": 21,
   "metadata": {},
   "outputs": [],
   "source": [
    "# MAKE SURE YOU HAVE THE DATA SET DOWNLOADED\n",
    "import cv2\n",
    "import os\n",
    "import numpy as np"
   ]
  },
  {
   "cell_type": "code",
   "execution_count": 24,
   "metadata": {},
   "outputs": [],
   "source": [
    "# location of extracted images\n",
    "image_dir = \"./final_v1\" \n",
    "save_pth = \"./heatmap\"\n",
    "\n",
    "show=True\n",
    "save=True\n",
    "\n",
    "# The area to process \n",
    "# [[Top left xy][Bottom right xy]],\n",
    "# (default [[0, 0][999, 999]])\n",
    "area = [\n",
    "    [0, 0], \n",
    "    [999, 999]\n",
    "]\n",
    "\n",
    "# Intensity: how intense each pixel change is (scale goes from 0-255)\n",
    "# Decay: how much decay between each frame \n",
    "intensity = 140\n",
    "decay = 10"
   ]
  },
  {
   "cell_type": "code",
   "execution_count": 23,
   "metadata": {},
   "outputs": [],
   "source": [
    "# Helper function to resize small images\n",
    "\n",
    "def ResizeWithAspectRatio(image, width=None, height=None, inter=cv2.INTER_AREA):\n",
    "    dim = None\n",
    "    (h, w) = image.shape[:2]\n",
    "\n",
    "    if width is None and height is None:\n",
    "        return image\n",
    "    if width is None:\n",
    "        r = height / float(h)\n",
    "        dim = (int(w * r), height)\n",
    "    else:\n",
    "        r = width / float(w)\n",
    "        dim = (width, int(h * r))\n",
    "\n",
    "    return cv2.resize(image, dim, interpolation=inter)"
   ]
  },
  {
   "cell_type": "code",
   "execution_count": 25,
   "metadata": {},
   "outputs": [],
   "source": [
    "dirs = [x[0] for x in os.walk(image_dir)]\n",
    "# print(dirs)\n",
    "img_paths = []\n",
    "for folder in dirs: \n",
    "     for file in os.listdir(folder):\n",
    "          filename = os.fsdecode(file)\n",
    "          if filename.endswith(\"png\"): \n",
    "               img_paths.append(os.path.join(f\"{image_dir}/{folder}/\", filename))\n",
    "\n",
    "img_paths.sort(key = lambda x: x.split(\"/\")[-1][:-4])"
   ]
  },
  {
   "cell_type": "code",
   "execution_count": 6,
   "metadata": {},
   "outputs": [
    {
     "data": {
      "text/plain": [
       "32"
      ]
     },
     "execution_count": 6,
     "metadata": {},
     "output_type": "execute_result"
    }
   ],
   "source": [
    "# Cell to get location of specific points on the image (useful for the area config param)\n",
    "\n",
    "def onMouse(event, x, y, flags, param):\n",
    "    if event == cv2.EVENT_LBUTTONDOWN:\n",
    "       print('x = %d, y = %d'%(x, y))\n",
    "\n",
    "cv2.imshow(\"image\", cv2.imread(img_paths[1000]))\n",
    "cv2.namedWindow('image')\n",
    "cv2.setMouseCallback('image', onMouse)\n",
    "cv2.waitKey(0)\n"
   ]
  },
  {
   "cell_type": "code",
   "execution_count": 75,
   "metadata": {},
   "outputs": [
    {
     "name": "stdout",
     "output_type": "stream",
     "text": [
      "24398 / 24400\r"
     ]
    }
   ],
   "source": [
    "img3 = np.zeros((area[1][1]-area[0][1], area[1][0]-area[0][0], 3))\n",
    "\n",
    "if not os.path.isdir(save_pth):\n",
    "    os.mkdir(save_pth)\n",
    "    os.mkdir(save_pth + \"/0\")\n",
    "    os.mkdir(save_pth + \"/1\")\n",
    "    os.mkdir(save_pth + \"/2\")\n",
    "    os.mkdir(save_pth + \"/3\")\n",
    "\n",
    "for i, path in enumerate(img_paths[1:]):\n",
    "    print(f\"{i} / {len(img_paths)}\", end=\"\\r\")\n",
    "    img = cv2.imread(img_paths[i])\n",
    "    img2 = cv2.imread(path)\n",
    "    \n",
    "    if img_paths[i+1].split(\"/\")[-1][0] != img_paths[i].split(\"/\")[-1][0]: \n",
    "        continue\n",
    "\n",
    "    img = img[area[0][1]:area[1][1], area[0][0]:area[1][0]]\n",
    "    img2 = img2[area[0][1]:area[1][1], area[0][0]:area[1][0]]\n",
    " \n",
    "    # Sequential frame colour masks\n",
    "    # (Detects changes for each pixel between sequential images)\n",
    "    b_1, g_1, r_1 = img[..., 0], img[..., 1], img[..., 2]\n",
    "    b_2, g_2, r_2 = img2[..., 0], img2[..., 1], img2[..., 2]\n",
    "    mask = (b_1 == b_2) & (g_1 == g_2) & (r_1 == r_2)\n",
    "    mask = ~mask\n",
    "\n",
    "    b, g, r = img3[..., 0], img3[..., 1], img3[..., 2]\n",
    "    r_mask = (r < 1.0)\n",
    "    g_mask = (~r_mask) & (g < 1.0)\n",
    "    b_mask = (~r_mask) & (~g_mask) & (b < 1.0)\n",
    "\n",
    "    # If changes detected increase the brightness \n",
    "    # (Using \"Hot\" colour map)\n",
    "    # Work around for numpy masking issues (probably a faster way of doing this)\n",
    "    temp_image = img3[mask & r_mask]\n",
    "    temp_image[:, 2] += intensity / 255\n",
    "    temp_image[:, 1] += (temp_image[:, 2] - 1).clip(0, 1)\n",
    "    img3[mask & r_mask] = temp_image\n",
    "\n",
    "\n",
    "    temp_image = img3[mask & g_mask]\n",
    "    temp_image[:, 1] += intensity / 255\n",
    "    temp_image[:, 0] += (temp_image[:, 1] - 1).clip(0, 1)\n",
    "    img3[mask & g_mask] = temp_image\n",
    "\n",
    "\n",
    "    temp_image = img3[mask & b_mask]\n",
    "    temp_image[:, 0] += intensity / 255\n",
    "    img3[mask & b_mask] = temp_image\n",
    "\n",
    "    img3 = img3.clip(0.0, 1.0)\n",
    "    \n",
    "\n",
    "\n",
    "    if img3.shape[1] < 300:\n",
    "        if save: \n",
    "            img3 = ResizeWithAspectRatio(img3)\n",
    "            alpha = np.sum(img3, axis=-1) > 0\n",
    "            cv2.imwrite(f\"{save_pth}/{tile}-{i}.exr\", np.dstack((img3, alpha)).astype(\"float32\"))\n",
    "        if show: \n",
    "            cv2.imshow(\"Heatmap\", ResizeWithAspectRatio(img3.astype(\"float32\")))\n",
    "            cv2.waitKey(1)\n",
    "    else:\n",
    "        if show: \n",
    "            \n",
    "\n",
    "            cv2.imshow(f\"Heatmap\", img3)\n",
    "            cv2.waitKey(1)\n",
    "        if save: \n",
    "            tile = img_paths[i].split(\"/\")[-1][0]\n",
    "            file_name = img_paths[i].split(\"/\")[-1][:-4]\n",
    "            cv2.imwrite(f\"{save_pth}/{tile}/{file_name}.exr\", img3.astype(\"float32\"))\n",
    "            \n",
    "\n",
    "   \n",
    "    b, g, r = img3[..., 0], img3[..., 1], img3[..., 2]\n",
    "    r_mask = (r > 0) & (g == 0.0) & (b == 0.0)\n",
    "    g_mask =  (g > 0.0) & (b == 0.0)\n",
    "    b_mask = (b > 0.0)\n",
    "\n",
    "    # Decay hotspots quicker  \n",
    "    temp_image = img3[b_mask]\n",
    "    temp_image[:, 0] -= decay / 255\n",
    "    img3[b_mask] = temp_image\n",
    "    temp_image = img3[g_mask]\n",
    "    temp_image[:, 1] -= decay / 255\n",
    "    img3[g_mask] = temp_image\n",
    "    temp_image = img3[r_mask]\n",
    "    temp_image[:, 2] -= decay / 255\n",
    "    img3[r_mask] = temp_image"
   ]
  }
 ],
 "metadata": {
  "interpreter": {
   "hash": "f3cd2f557b83b6cde2c3b8adaea9ca90aaf05685b7ca3f8036a7de4ebfa5124c"
  },
  "kernelspec": {
   "display_name": "Python 3.9.7 64-bit",
   "language": "python",
   "name": "python3"
  },
  "language_info": {
   "codemirror_mode": {
    "name": "ipython",
    "version": 3
   },
   "file_extension": ".py",
   "mimetype": "text/x-python",
   "name": "python",
   "nbconvert_exporter": "python",
   "pygments_lexer": "ipython3",
   "version": "3.9.7"
  },
  "orig_nbformat": 4
 },
 "nbformat": 4,
 "nbformat_minor": 2
}

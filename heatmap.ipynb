{
 "cells": [
  {
   "cell_type": "code",
   "execution_count": 3,
   "metadata": {},
   "outputs": [],
   "source": [
    "# MAKE SURE YOU HAVE THE DATA SET DOWNLOADED\n",
    "\n",
    "import cv2\n",
    "import os\n",
    "import numpy as np"
   ]
  },
  {
   "cell_type": "code",
   "execution_count": 5,
   "metadata": {},
   "outputs": [],
   "source": [
    "# location of extracted images\n",
    "image_dir = \"./latest_3\" \n",
    "save_pth = \"./heatmap_48\"\n",
    "# The area to process \n",
    "# [[Top left xy][Bottom right xy]],\n",
    "# (default [[0, 0][1000, 1000]])\n",
    "area = [\n",
    "    [0, 0], \n",
    "    [999, 999]\n",
    "]\n",
    "\n",
    "# Intensity: how intense each pixel change is (scale goes from 0-255)\n",
    "# Decay: how much decay between each frame \n",
    "intensity = 60\n",
    "decay = 10"
   ]
  },
  {
   "cell_type": "code",
   "execution_count": 6,
   "metadata": {},
   "outputs": [],
   "source": [
    "# Helper function to resize small images\n",
    "\n",
    "def ResizeWithAspectRatio(image, width=None, height=None, inter=cv2.INTER_AREA):\n",
    "    dim = None\n",
    "    (h, w) = image.shape[:2]\n",
    "\n",
    "    if width is None and height is None:\n",
    "        return image\n",
    "    if width is None:\n",
    "        r = height / float(h)\n",
    "        dim = (int(w * r), height)\n",
    "    else:\n",
    "        r = width / float(w)\n",
    "        dim = (width, int(h * r))\n",
    "\n",
    "    return cv2.resize(image, dim, interpolation=inter)"
   ]
  },
  {
   "cell_type": "code",
   "execution_count": 10,
   "metadata": {},
   "outputs": [],
   "source": [
    "directory = os.fsencode(f\"{image_dir}/images_single/\")\n",
    "img_paths = []\n",
    "for file in os.listdir(directory):\n",
    "     filename = os.fsdecode(file)\n",
    "     if filename.endswith(\"png\"): \n",
    "            img_paths.append(os.path.join(f\"{image_dir}/images_single/\", filename))"
   ]
  },
  {
   "cell_type": "code",
   "execution_count": 11,
   "metadata": {},
   "outputs": [
    {
     "data": {
      "text/plain": [
       "7402"
      ]
     },
     "execution_count": 11,
     "metadata": {},
     "output_type": "execute_result"
    }
   ],
   "source": [
    "directory = os.fsencode(f\"{image_dir}/images\")\n",
    "for file in os.listdir(directory):\n",
    "     filename = os.fsdecode(file)\n",
    "     if filename.endswith(\"png\"): \n",
    "                img_paths.append(os.path.join(f\"{image_dir}/images/\", filename))\n",
    "len(img_paths)"
   ]
  },
  {
   "cell_type": "code",
   "execution_count": 6,
   "metadata": {},
   "outputs": [
    {
     "data": {
      "text/plain": [
       "32"
      ]
     },
     "execution_count": 6,
     "metadata": {},
     "output_type": "execute_result"
    }
   ],
   "source": [
    "# Cell to get location of specific points on the image (useful for the area config param)\n",
    "\n",
    "def onMouse(event, x, y, flags, param):\n",
    "    if event == cv2.EVENT_LBUTTONDOWN:\n",
    "       print('x = %d, y = %d'%(x, y))\n",
    "\n",
    "cv2.imshow(\"image\", cv2.imread(img_paths[1000]))\n",
    "cv2.namedWindow('image')\n",
    "cv2.setMouseCallback('image', onMouse)\n",
    "cv2.waitKey(0)\n"
   ]
  },
  {
   "cell_type": "code",
   "execution_count": 16,
   "metadata": {},
   "outputs": [
    {
     "name": "stdout",
     "output_type": "stream",
     "text": [
      "62\r"
     ]
    },
    {
     "ename": "KeyboardInterrupt",
     "evalue": "",
     "output_type": "error",
     "traceback": [
      "\u001b[1;31m---------------------------------------------------------------------------\u001b[0m",
      "\u001b[1;31mKeyboardInterrupt\u001b[0m                         Traceback (most recent call last)",
      "\u001b[1;32m~\\AppData\\Local\\Temp/ipykernel_7356/1660480111.py\u001b[0m in \u001b[0;36m<module>\u001b[1;34m\u001b[0m\n\u001b[0;32m     53\u001b[0m \u001b[1;33m\u001b[0m\u001b[0m\n\u001b[0;32m     54\u001b[0m     \u001b[0mtile\u001b[0m \u001b[1;33m=\u001b[0m \u001b[1;36m0\u001b[0m \u001b[1;32mif\u001b[0m \u001b[0mimg_paths\u001b[0m\u001b[1;33m[\u001b[0m\u001b[0mi\u001b[0m\u001b[1;33m]\u001b[0m\u001b[1;33m.\u001b[0m\u001b[0msplit\u001b[0m\u001b[1;33m(\u001b[0m\u001b[1;34m\"/\"\u001b[0m\u001b[1;33m)\u001b[0m\u001b[1;33m[\u001b[0m\u001b[1;33m-\u001b[0m\u001b[1;36m1\u001b[0m\u001b[1;33m]\u001b[0m\u001b[1;33m[\u001b[0m\u001b[1;36m0\u001b[0m\u001b[1;33m]\u001b[0m \u001b[1;33m==\u001b[0m \u001b[1;34m\"0\"\u001b[0m \u001b[1;32melse\u001b[0m \u001b[1;36m1\u001b[0m\u001b[1;33m\u001b[0m\u001b[1;33m\u001b[0m\u001b[0m\n\u001b[1;32m---> 55\u001b[1;33m     \u001b[0mcv2\u001b[0m\u001b[1;33m.\u001b[0m\u001b[0mimwrite\u001b[0m\u001b[1;33m(\u001b[0m\u001b[1;34mf\"{save_pth}/{tile}-{i}.exr\"\u001b[0m\u001b[1;33m,\u001b[0m \u001b[0mimg3\u001b[0m\u001b[1;33m.\u001b[0m\u001b[0mastype\u001b[0m\u001b[1;33m(\u001b[0m\u001b[1;34m\"float32\"\u001b[0m\u001b[1;33m)\u001b[0m\u001b[1;33m)\u001b[0m\u001b[1;33m\u001b[0m\u001b[1;33m\u001b[0m\u001b[0m\n\u001b[0m\u001b[0;32m     56\u001b[0m \u001b[1;33m\u001b[0m\u001b[0m\n\u001b[0;32m     57\u001b[0m     \u001b[0mcv2\u001b[0m\u001b[1;33m.\u001b[0m\u001b[0mimshow\u001b[0m\u001b[1;33m(\u001b[0m\u001b[1;34m\"Image\"\u001b[0m\u001b[1;33m,\u001b[0m \u001b[0mimg2\u001b[0m\u001b[1;33m)\u001b[0m\u001b[1;33m\u001b[0m\u001b[1;33m\u001b[0m\u001b[0m\n",
      "\u001b[1;31mKeyboardInterrupt\u001b[0m: "
     ]
    }
   ],
   "source": [
    "img3 = np.zeros((area[1][1]-area[0][1], area[1][0]-area[0][0], 3))\n",
    "if not os.path.isdir(save_pth):\n",
    "    os.mkdir(save_pth)\n",
    "\n",
    "for i, path in enumerate(img_paths[1:]):\n",
    "    print(i, end=\"\\r\")\n",
    "    img = cv2.imread(img_paths[i])\n",
    "    img2 = cv2.imread(path)\n",
    "\n",
    "    img = img[area[0][1]:area[1][1], area[0][0]:area[1][0]] if img_paths[i+1].split(\"/\")[-1][0] == \"0\" else np.zero((area[1][1]-area[0][1], area[1][0]-area[0][0], 3))\n",
    "    img2 = img2[area[0][1]:area[1][1], area[0][0]:area[1][0]]\n",
    "\n",
    "    # Sequential frame colour masks\n",
    "    # (Detects changes for each pixel between sequential images)\n",
    "    b_1, g_1, r_1 = img[..., 0], img[..., 1], img[..., 2]\n",
    "    b_2, g_2, r_2 = img2[..., 0], img2[..., 1], img2[..., 2]\n",
    "    mask = (b_1 == b_2) & (g_1 == g_2) & (r_1 == r_2)\n",
    "    mask = ~mask\n",
    "\n",
    "    r = img3[..., 2]\n",
    "    r_mask = (r < 1.0)\n",
    "    \n",
    "\n",
    "    # If changes detected increase the brightness \n",
    "    # (Using \"Hot\" colour map)\n",
    "    # Work around for numpy masking issues (probably a faster way of doing this)\n",
    "    temp_image_r = img3[mask & r_mask]\n",
    "    temp_image_r[:, 2] += intensity / 255\n",
    "    img3[mask & r_mask] = temp_image_r\n",
    "\n",
    "    g, r = img3[..., 1], img3[..., 2]\n",
    "    r_mask = (r < 1.0)\n",
    "    g_mask = (~r_mask) & (g < 1.0)\n",
    "\n",
    "\n",
    "    temp_image_g = img3[mask & g_mask]\n",
    "    temp_image_g[:, 1] += intensity / 255 \n",
    "    img3[mask & g_mask] = temp_image_g\n",
    "\n",
    "    b, g, r = img3[..., 0], img3[..., 1], img3[..., 2]\n",
    "    r_mask = (r < 1.0)\n",
    "    g_mask = (~r_mask) & (g < 1.0)\n",
    "    b_mask = (~r_mask) & (~g_mask) & (b < 1.0)\n",
    "\n",
    "\n",
    "    temp_image_b = img3[mask & b_mask]\n",
    "    temp_image_b[:, 0] += intensity / 255\n",
    "    img3[mask & b_mask] = temp_image_b\n",
    "\n",
    "    img3 = img3.clip(0.0, 1.0)\n",
    "    if img3.shape[1] < 300:\n",
    "        cv2.imshow(\"Heatmap\", ResizeWithAspectRatio(img3, width=512))\n",
    "        cv2.imwrite(f\"{save_pth}/{tile}-{i}.exr\", ResizeWithAspectRatio(img3.astype(\"float32\")))\n",
    "\n",
    "    tile = 0 if img_paths[i].split(\"/\")[-1][0] == \"0\" else 1\n",
    "    cv2.imwrite(f\"{save_pth}/{tile}-{i}.exr\", img3.astype(\"float32\"))\n",
    "\n",
    "    cv2.imshow(\"Image\", img2)\n",
    "    cv2.imshow(\"Heatmap\", img3)\n",
    "    cv2.waitKey(1)\n",
    "   \n",
    "    b, g, r = img3[..., 0], img3[..., 1], img3[..., 2]\n",
    "    r_mask = (r > 0) & (g == 0.0) & (b == 0.0)\n",
    "    g_mask =  (g > 0.0) & (b == 0.0)\n",
    "    b_mask = (b > 0.0)\n",
    "\n",
    "    # Decay hotspots quicker  \n",
    "    temp_image = img3[b_mask]\n",
    "    temp_image[:, 0] -= decay / 255\n",
    "    img3[b_mask] = temp_image\n",
    "    temp_image = img3[g_mask]\n",
    "    temp_image[:, 1] -= decay / 255\n",
    "    img3[g_mask] = temp_image\n",
    "    temp_image = img3[r_mask]\n",
    "    temp_image[:, 2] -= decay / 255\n",
    "    img3[r_mask] = temp_image"
   ]
  }
 ],
 "metadata": {
  "interpreter": {
   "hash": "f3cd2f557b83b6cde2c3b8adaea9ca90aaf05685b7ca3f8036a7de4ebfa5124c"
  },
  "kernelspec": {
   "display_name": "Python 3.9.7 64-bit",
   "language": "python",
   "name": "python3"
  },
  "language_info": {
   "codemirror_mode": {
    "name": "ipython",
    "version": 3
   },
   "file_extension": ".py",
   "mimetype": "text/x-python",
   "name": "python",
   "nbconvert_exporter": "python",
   "pygments_lexer": "ipython3",
   "version": "3.9.7"
  },
  "orig_nbformat": 4
 },
 "nbformat": 4,
 "nbformat_minor": 2
}

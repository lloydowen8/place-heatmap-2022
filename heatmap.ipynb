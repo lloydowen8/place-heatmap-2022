{
 "cells": [
  {
   "cell_type": "code",
   "execution_count": 1,
   "metadata": {},
   "outputs": [],
   "source": [
    "# MAKE SURE YOU HAVE THE DATA SET DOWNLOADED\n",
    "\n",
    "import cv2\n",
    "import os\n",
    "import numpy as np"
   ]
  },
  {
   "cell_type": "code",
   "execution_count": 5,
   "metadata": {},
   "outputs": [],
   "source": [
    "# location of extracted images\n",
    "image_dir = \"./latest\" \n",
    "\n",
    "# The area to process \n",
    "# [[Top left xy][Bottom right xy]],\n",
    "# (default [[0, 0][1000, 1000]])\n",
    "area = [\n",
    "    [0, 0], \n",
    "    [1000, 1000]\n",
    "]\n",
    "\n",
    "# Intensity: how intense each pixel change is (scale goes from 0-255)\n",
    "# Decay: how much decay between each frame \n",
    "intensity = 50\n",
    "decay = 7"
   ]
  },
  {
   "cell_type": "code",
   "execution_count": 3,
   "metadata": {},
   "outputs": [],
   "source": [
    "# Helper function to resize small images\n",
    "\n",
    "def ResizeWithAspectRatio(image, width=None, height=None, inter=cv2.INTER_AREA):\n",
    "    dim = None\n",
    "    (h, w) = image.shape[:2]\n",
    "\n",
    "    if width is None and height is None:\n",
    "        return image\n",
    "    if width is None:\n",
    "        r = height / float(h)\n",
    "        dim = (int(w * r), height)\n",
    "    else:\n",
    "        r = width / float(w)\n",
    "        dim = (width, int(h * r))\n",
    "\n",
    "    return cv2.resize(image, dim, interpolation=inter)"
   ]
  },
  {
   "cell_type": "code",
   "execution_count": 6,
   "metadata": {},
   "outputs": [],
   "source": [
    "directory = os.fsencode(f\"{image_dir}/images_single/\")\n",
    "img_paths = []\n",
    "for file in os.listdir(directory):\n",
    "     filename = os.fsdecode(file)\n",
    "     if filename.endswith(\"png\"): \n",
    "            img_paths.append(os.path.join(f\"{image_dir}/images_single/\", filename))"
   ]
  },
  {
   "cell_type": "code",
   "execution_count": 7,
   "metadata": {},
   "outputs": [],
   "source": [
    "directory = os.fsencode(f\"{image_dir}/images\")\n",
    "for file in os.listdir(directory):\n",
    "     filename = os.fsdecode(file)\n",
    "     if filename.endswith(\"png\"): \n",
    "         img_paths.append(os.path.join(f\"{image_dir}/images/\", filename))\n"
   ]
  },
  {
   "cell_type": "code",
   "execution_count": null,
   "metadata": {},
   "outputs": [],
   "source": [
    "# Cell to get location of specific points on the image (useful for the area config param)\n",
    "\n",
    "def onMouse(event, x, y, flags, param):\n",
    "    if event == cv2.EVENT_LBUTTONDOWN:\n",
    "       print('x = %d, y = %d'%(x, y))\n",
    "\n",
    "cv2.imshow(\"image\", cv2.imread(img_paths[1000]))\n",
    "cv2.namedWindow('image')\n",
    "cv2.setMouseCallback('image', onMouse)\n",
    "cv2.waitKey(0)\n"
   ]
  },
  {
   "cell_type": "code",
   "execution_count": 11,
   "metadata": {},
   "outputs": [
    {
     "name": "stdout",
     "output_type": "stream",
     "text": [
      "62\r"
     ]
    },
    {
     "ename": "KeyboardInterrupt",
     "evalue": "",
     "output_type": "error",
     "traceback": [
      "\u001b[1;31m---------------------------------------------------------------------------\u001b[0m",
      "\u001b[1;31mKeyboardInterrupt\u001b[0m                         Traceback (most recent call last)",
      "\u001b[1;32m~\\AppData\\Local\\Temp/ipykernel_25200/2323345126.py\u001b[0m in \u001b[0;36m<module>\u001b[1;34m\u001b[0m\n\u001b[0;32m      5\u001b[0m \u001b[1;32mfor\u001b[0m \u001b[0mi\u001b[0m\u001b[1;33m,\u001b[0m \u001b[0mpath\u001b[0m \u001b[1;32min\u001b[0m \u001b[0menumerate\u001b[0m\u001b[1;33m(\u001b[0m\u001b[0mimg_paths\u001b[0m\u001b[1;33m[\u001b[0m\u001b[1;36m1\u001b[0m\u001b[1;33m:\u001b[0m\u001b[1;33m]\u001b[0m\u001b[1;33m)\u001b[0m\u001b[1;33m:\u001b[0m\u001b[1;33m\u001b[0m\u001b[1;33m\u001b[0m\u001b[0m\n\u001b[0;32m      6\u001b[0m     \u001b[0mprint\u001b[0m\u001b[1;33m(\u001b[0m\u001b[0mi\u001b[0m\u001b[1;33m,\u001b[0m \u001b[0mend\u001b[0m\u001b[1;33m=\u001b[0m\u001b[1;34m\"\\r\"\u001b[0m\u001b[1;33m)\u001b[0m\u001b[1;33m\u001b[0m\u001b[1;33m\u001b[0m\u001b[0m\n\u001b[1;32m----> 7\u001b[1;33m     \u001b[0mimg\u001b[0m \u001b[1;33m=\u001b[0m \u001b[0mcv2\u001b[0m\u001b[1;33m.\u001b[0m\u001b[0mimread\u001b[0m\u001b[1;33m(\u001b[0m\u001b[0mimg_paths\u001b[0m\u001b[1;33m[\u001b[0m\u001b[0mi\u001b[0m\u001b[1;33m]\u001b[0m\u001b[1;33m)\u001b[0m\u001b[1;33m\u001b[0m\u001b[1;33m\u001b[0m\u001b[0m\n\u001b[0m\u001b[0;32m      8\u001b[0m     \u001b[0mimg2\u001b[0m \u001b[1;33m=\u001b[0m \u001b[0mcv2\u001b[0m\u001b[1;33m.\u001b[0m\u001b[0mimread\u001b[0m\u001b[1;33m(\u001b[0m\u001b[0mpath\u001b[0m\u001b[1;33m)\u001b[0m\u001b[1;33m\u001b[0m\u001b[1;33m\u001b[0m\u001b[0m\n\u001b[0;32m      9\u001b[0m \u001b[1;33m\u001b[0m\u001b[0m\n",
      "\u001b[1;31mKeyboardInterrupt\u001b[0m: "
     ]
    }
   ],
   "source": [
    "img = cv2.imread(img_paths[0])\n",
    "img2 = cv2.imread(img_paths[1])\n",
    "img3 = np.zeros((area[1][1]-area[0][1], area[1][0]-area[0][0], 3))\n",
    "\n",
    "for i, path in enumerate(img_paths[1:]):\n",
    "    print(i, end=\"\\r\")\n",
    "    img = cv2.imread(img_paths[i])\n",
    "    img2 = cv2.imread(path)\n",
    "\n",
    "    img = img[area[0][1]:area[1][1], area[0][0]:area[1][0]]\n",
    "    img2 = img2[area[0][1]:area[1][1], area[0][0]:area[1][0]]\n",
    "    img3 = img3.clip(0, 201)\n",
    "\n",
    "    # Sequential frame colour masks\n",
    "    # (Detects changes for each pixel between sequential images)\n",
    "    b_1, g_1, r_1 = img[..., 0], img[..., 1], img[..., 2]\n",
    "    b_2, g_2, r_2 = img2[..., 0], img2[..., 1], img2[..., 2]\n",
    "    mask = (b_1 == b_2) & (g_1 == g_2) & (r_1 == r_2)\n",
    "    \n",
    "    b, g, r = img3[..., 0], img3[..., 1], img3[..., 2]\n",
    "    r_mask = (r < 1.0)\n",
    "    g_mask = (~r_mask) & (g < 1.0)\n",
    "    b_mask = (~r_mask) & (~g_mask) & (b < 1.0)\n",
    "    mask = ~mask\n",
    "    \n",
    "    # If changes detected increase the brightness \n",
    "    # (Using \"Hot\" colour map)\n",
    "    # Work around for numpy masking issues (probably a faster way of doing this)\n",
    "    temp_image = img3[mask & b_mask]\n",
    "    temp_image[:, 0] += intensity / 255\n",
    "    img3[mask & b_mask] = temp_image\n",
    "\n",
    "    temp_image = img3[mask & g_mask]\n",
    "    temp_image[:, 1] += intensity / 255\n",
    "    img3[mask & g_mask] = temp_image\n",
    "    \n",
    "    temp_image = img3[mask & r_mask]\n",
    "    temp_image[:, 2] += intensity / 255\n",
    "    img3[mask & r_mask] = temp_image\n",
    "    \n",
    "    if img3.shape[1] < 300:\n",
    "        cv2.imshow(\"Heatmap\", ResizeWithAspectRatio(img3, width=512))\n",
    "    cv2.waitKey(1)\n",
    "   \n",
    "    # Decay hotspots quicker  \n",
    "    temp_image = img3[b_mask]\n",
    "    temp_image[:, 0] -= decay * 3 / 255\n",
    "    img3[b_mask] = temp_image\n",
    "    temp_image = img3[g_mask & ~b_mask]\n",
    "    temp_image[:, 1] -= decay * 2 / 255\n",
    "    img3[g_mask] = temp_image\n",
    "    temp_image = img3[r_mask & ~b_mask & ~g_mask]\n",
    "    temp_image[:, 2] -= decay / 255\n",
    "    img3[r_mask] = temp_image\n"
   ]
  },
  {
   "cell_type": "code",
   "execution_count": 19,
   "metadata": {},
   "outputs": [
    {
     "name": "stdout",
     "output_type": "stream",
     "text": [
      "False\n"
     ]
    }
   ],
   "source": [
    "img = cv2.imread(img_paths[0])\n",
    "img2 = cv2.imread(img_paths[1])\n",
    "\n",
    "print((img == img2).all())"
   ]
  }
 ],
 "metadata": {
  "interpreter": {
   "hash": "f3cd2f557b83b6cde2c3b8adaea9ca90aaf05685b7ca3f8036a7de4ebfa5124c"
  },
  "kernelspec": {
   "display_name": "Python 3.9.7 64-bit",
   "language": "python",
   "name": "python3"
  },
  "language_info": {
   "codemirror_mode": {
    "name": "ipython",
    "version": 3
   },
   "file_extension": ".py",
   "mimetype": "text/x-python",
   "name": "python",
   "nbconvert_exporter": "python",
   "pygments_lexer": "ipython3",
   "version": "3.9.7"
  },
  "orig_nbformat": 4
 },
 "nbformat": 4,
 "nbformat_minor": 2
}
